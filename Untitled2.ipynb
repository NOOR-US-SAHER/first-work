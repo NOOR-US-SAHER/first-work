{
 "cells": [
  {
   "cell_type": "markdown",
   "metadata": {},
   "source": []
  },
  {
   "cell_type": "markdown",
   "metadata": {},
   "source": [
    "# print(\" Hello World\")"
   ]
  },
  {
   "cell_type": "code",
   "execution_count": 2,
   "metadata": {},
   "outputs": [
    {
     "name": "stdout",
     "output_type": "stream",
     "text": [
      "Hello, world\n"
     ]
    }
   ],
   "source": [
    "print('Hello, world')"
   ]
  },
  {
   "cell_type": "code",
   "execution_count": 6,
   "metadata": {},
   "outputs": [
    {
     "name": "stdout",
     "output_type": "stream",
     "text": [
      "Noorussaher\n"
     ]
    }
   ],
   "source": [
    "name = 'Noorussaher'\n",
    "print (name)"
   ]
  },
  {
   "cell_type": "code",
   "execution_count": 7,
   "metadata": {},
   "outputs": [
    {
     "name": "stdout",
     "output_type": "stream",
     "text": [
      "Noorussaher\n"
     ]
    }
   ],
   "source": [
    "Name =\"Noorussaher\"\n",
    "print(name)"
   ]
  },
  {
   "cell_type": "code",
   "execution_count": 8,
   "metadata": {},
   "outputs": [
    {
     "ename": "SyntaxError",
     "evalue": "invalid syntax (<ipython-input-8-27467a4bba47>, line 1)",
     "output_type": "error",
     "traceback": [
      "\u001b[1;36m  File \u001b[1;32m\"<ipython-input-8-27467a4bba47>\"\u001b[1;36m, line \u001b[1;32m1\u001b[0m\n\u001b[1;33m    school name = 'sindh boys scout'\u001b[0m\n\u001b[1;37m              ^\u001b[0m\n\u001b[1;31mSyntaxError\u001b[0m\u001b[1;31m:\u001b[0m invalid syntax\n"
     ]
    }
   ],
   "source": [
    "school name = 'sindh boys scout'\n",
    "print(school name)"
   ]
  },
  {
   "cell_type": "code",
   "execution_count": 2,
   "metadata": {},
   "outputs": [
    {
     "name": "stdout",
     "output_type": "stream",
     "text": [
      "sindh boys scout\n"
     ]
    }
   ],
   "source": [
    "schoolname = 'sindh boys scout'\n",
    "print(schoolname)"
   ]
  },
  {
   "cell_type": "code",
   "execution_count": 10,
   "metadata": {},
   "outputs": [
    {
     "name": "stdout",
     "output_type": "stream",
     "text": [
      "sindh boys scout\n"
     ]
    }
   ],
   "source": [
    "school = 'sindh boys scout'\n",
    "print(school)"
   ]
  },
  {
   "cell_type": "code",
   "execution_count": 15,
   "metadata": {},
   "outputs": [
    {
     "name": "stdout",
     "output_type": "stream",
     "text": [
      "90\n"
     ]
    }
   ],
   "source": [
    "oringinal_num = 6\n",
    "new_num = oringinal_num + 84\n",
    "print(new_num)"
   ]
  },
  {
   "cell_type": "code",
   "execution_count": 32,
   "metadata": {},
   "outputs": [
    {
     "name": "stdout",
     "output_type": "stream",
     "text": [
      "1\n"
     ]
    }
   ],
   "source": [
    "num = 126\n",
    "newnum = num  // 67\n",
    "print(newnum)"
   ]
  },
  {
   "cell_type": "code",
   "execution_count": 38,
   "metadata": {},
   "outputs": [
    {
     "name": "stdout",
     "output_type": "stream",
     "text": [
      "72\n"
     ]
    }
   ],
   "source": [
    "dozen = 36\n",
    "new = dozen * 2\n",
    "print(new)"
   ]
  },
  {
   "cell_type": "code",
   "execution_count": 42,
   "metadata": {},
   "outputs": [
    {
     "name": "stdout",
     "output_type": "stream",
     "text": [
      "7.0\n"
     ]
    }
   ],
   "source": [
    "num = 42\n",
    "new = num / 6\n",
    "print(new)"
   ]
  },
  {
   "cell_type": "code",
   "execution_count": 41,
   "metadata": {},
   "outputs": [
    {
     "name": "stdout",
     "output_type": "stream",
     "text": [
      "7\n"
     ]
    }
   ],
   "source": [
    "num = 42\n",
    "new = num // 6\n",
    "print(new)"
   ]
  },
  {
   "cell_type": "code",
   "execution_count": 1,
   "metadata": {},
   "outputs": [],
   "source": [
    "a =10\n",
    "b=20"
   ]
  },
  {
   "cell_type": "code",
   "execution_count": 2,
   "metadata": {},
   "outputs": [
    {
     "ename": "SyntaxError",
     "evalue": "invalid syntax (<ipython-input-2-87c4675aa845>, line 1)",
     "output_type": "error",
     "traceback": [
      "\u001b[1;36m  File \u001b[1;32m\"<ipython-input-2-87c4675aa845>\"\u001b[1;36m, line \u001b[1;32m1\u001b[0m\n\u001b[1;33m    if abc\u001b[0m\n\u001b[1;37m          ^\u001b[0m\n\u001b[1;31mSyntaxError\u001b[0m\u001b[1;31m:\u001b[0m invalid syntax\n"
     ]
    }
   ],
   "source": [
    "if abc"
   ]
  },
  {
   "cell_type": "code",
   "execution_count": 4,
   "metadata": {},
   "outputs": [
    {
     "data": {
      "text/plain": [
       "False"
      ]
     },
     "execution_count": 4,
     "metadata": {},
     "output_type": "execute_result"
    }
   ],
   "source": [
    "a>b"
   ]
  },
  {
   "cell_type": "code",
   "execution_count": 5,
   "metadata": {},
   "outputs": [
    {
     "name": "stdout",
     "output_type": "stream",
     "text": [
      "if is true\n",
      "if is true\n",
      "if is true\n",
      "if is true\n"
     ]
    }
   ],
   "source": [
    "if a < b :\n",
    "    print(\"if is true\")\n",
    "    print(\"if is true\")\n",
    "    print(\"if is true\")\n",
    "    print(\"if is true\")\n",
    "    "
   ]
  },
  {
   "cell_type": "code",
   "execution_count": 5,
   "metadata": {},
   "outputs": [
    {
     "ename": "NameError",
     "evalue": "name 'b' is not defined",
     "output_type": "error",
     "traceback": [
      "\u001b[1;31m---------------------------------------------------------------------------\u001b[0m",
      "\u001b[1;31mNameError\u001b[0m                                 Traceback (most recent call last)",
      "\u001b[1;32m<ipython-input-5-8edcc9dd73d3>\u001b[0m in \u001b[0;36m<module>\u001b[1;34m\u001b[0m\n\u001b[1;32m----> 1\u001b[1;33m \u001b[1;32mif\u001b[0m \u001b[0mb\u001b[0m \u001b[1;33m>\u001b[0m \u001b[0ma\u001b[0m \u001b[1;33m:\u001b[0m\u001b[1;33m\u001b[0m\u001b[1;33m\u001b[0m\u001b[0m\n\u001b[0m\u001b[0;32m      2\u001b[0m     \u001b[0mprint\u001b[0m\u001b[1;33m(\u001b[0m\u001b[1;34m\"if is false\"\u001b[0m\u001b[1;33m)\u001b[0m\u001b[1;33m\u001b[0m\u001b[1;33m\u001b[0m\u001b[0m\n\u001b[0;32m      3\u001b[0m     \u001b[0mprint\u001b[0m\u001b[1;33m(\u001b[0m\u001b[1;34m\"if is false\"\u001b[0m\u001b[1;33m)\u001b[0m\u001b[1;33m\u001b[0m\u001b[1;33m\u001b[0m\u001b[0m\n\u001b[0;32m      4\u001b[0m     \u001b[0mprint\u001b[0m\u001b[1;33m(\u001b[0m\u001b[1;34m\"if is false\"\u001b[0m\u001b[1;33m)\u001b[0m\u001b[1;33m\u001b[0m\u001b[1;33m\u001b[0m\u001b[0m\n\u001b[0;32m      5\u001b[0m     \u001b[0mprint\u001b[0m\u001b[1;33m(\u001b[0m\u001b[1;34m\"if is false\"\u001b[0m\u001b[1;33m)\u001b[0m\u001b[1;33m\u001b[0m\u001b[1;33m\u001b[0m\u001b[0m\n",
      "\u001b[1;31mNameError\u001b[0m: name 'b' is not defined"
     ]
    }
   ],
   "source": [
    "if b > a :\n",
    "    print(\"if is false\")\n",
    "    print(\"if is false\")\n",
    "    print(\"if is false\")\n",
    "    print(\"if is false\")\n",
    "    "
   ]
  },
  {
   "cell_type": "code",
   "execution_count": 7,
   "metadata": {},
   "outputs": [
    {
     "name": "stdout",
     "output_type": "stream",
     "text": [
      "if is true\n",
      "if is true\n",
      "if is true\n",
      "if is true\n"
     ]
    }
   ],
   "source": [
    "if a < b :\n",
    "    print(\"if is true\")\n",
    "    print(\"if is true\")\n",
    "    print(\"if is true\")\n",
    "    print(\"if is true\")\n",
    "else:\n",
    "    print(\"if is false\")\n",
    "    "
   ]
  },
  {
   "cell_type": "code",
   "execution_count": 8,
   "metadata": {},
   "outputs": [
    {
     "name": "stdout",
     "output_type": "stream",
     "text": [
      "else block\n"
     ]
    }
   ],
   "source": [
    "x=39\n",
    "y=24\n",
    "if a > b:\n",
    "    print(\"if block\")\n",
    "else:\n",
    "    print(\"else block\")"
   ]
  },
  {
   "cell_type": "code",
   "execution_count": 12,
   "metadata": {},
   "outputs": [
    {
     "name": "stdout",
     "output_type": "stream",
     "text": [
      "enter temperature today: 34\n",
      "its hot weather today\n"
     ]
    }
   ],
   "source": [
    "temp =int(input(\"enter temperature today: \")) #type casting\n",
    "if temp>30:\n",
    "    print(\"its hot weather today\")\n",
    "else:\n",
    "    print(\"normal wather\")\n",
    "    "
   ]
  },
  {
   "cell_type": "code",
   "execution_count": 13,
   "metadata": {},
   "outputs": [
    {
     "name": "stdout",
     "output_type": "stream",
     "text": [
      "enter temperature today: 23\n",
      "normal wather\n"
     ]
    }
   ],
   "source": [
    "temp =int(input(\"enter temperature today: \")) #type casting\n",
    "if temp>30:\n",
    "    print(\"its hot weather today\")\n",
    "else:\n",
    "    print(\"normal wather\")\n",
    "    "
   ]
  },
  {
   "cell_type": "markdown",
   "metadata": {},
   "source": [
    "# nested if's"
   ]
  },
  {
   "cell_type": "code",
   "execution_count": 14,
   "metadata": {},
   "outputs": [
    {
     "ename": "SyntaxError",
     "evalue": "invalid syntax (<ipython-input-14-be93a44c9d05>, line 2)",
     "output_type": "error",
     "traceback": [
      "\u001b[1;36m  File \u001b[1;32m\"<ipython-input-14-be93a44c9d05>\"\u001b[1;36m, line \u001b[1;32m2\u001b[0m\n\u001b[1;33m    ifa>b:\u001b[0m\n\u001b[1;37m          ^\u001b[0m\n\u001b[1;31mSyntaxError\u001b[0m\u001b[1;31m:\u001b[0m invalid syntax\n"
     ]
    }
   ],
   "source": [
    "if a==b:\n",
    "    ifa>b:\n",
    "        ifa<b:\n",
    "            ifa!=b"
   ]
  },
  {
   "cell_type": "code",
   "execution_count": 17,
   "metadata": {},
   "outputs": [
    {
     "name": "stdout",
     "output_type": "stream",
     "text": [
      "do you have cnic?yes\n",
      "ander chaly jao\n",
      "is my name in list?no\n",
      "you can not caste vote\n"
     ]
    }
   ],
   "source": [
    "cnic = input(\"do you have cnic?\")\n",
    "if cnic=='yes':\n",
    "    print(\"ander chaly jao\")\n",
    "    nameinlist = input(\"is my name in list?\")\n",
    "    if nameinlist=='yes':\n",
    "        print(\"please cast your vote\")\n",
    "    else:\n",
    "        print(\"you can not caste vote\")\n",
    "        \n",
    "else:\n",
    "    print(\"you cant caste vote\")\n",
    "\n"
   ]
  },
  {
   "cell_type": "code",
   "execution_count": 18,
   "metadata": {},
   "outputs": [
    {
     "ename": "SyntaxError",
     "evalue": "EOL while scanning string literal (<ipython-input-18-e7a241427e9b>, line 2)",
     "output_type": "error",
     "traceback": [
      "\u001b[1;36m  File \u001b[1;32m\"<ipython-input-18-e7a241427e9b>\"\u001b[1;36m, line \u001b[1;32m2\u001b[0m\n\u001b[1;33m    if cnic==yes':\u001b[0m\n\u001b[1;37m                  ^\u001b[0m\n\u001b[1;31mSyntaxError\u001b[0m\u001b[1;31m:\u001b[0m EOL while scanning string literal\n"
     ]
    }
   ],
   "source": [
    "cnic = (\"do you have cnic?\")\n",
    "if cnic==yes':"
   ]
  },
  {
   "cell_type": "markdown",
   "metadata": {},
   "source": [
    "# if elif else"
   ]
  },
  {
   "cell_type": "code",
   "execution_count": 4,
   "metadata": {},
   "outputs": [
    {
     "name": "stdout",
     "output_type": "stream",
     "text": [
      "enter your marks:88\n",
      "you marks are 88.0 and your grades is A\n"
     ]
    }
   ],
   "source": [
    "marks = float(input(\"enter your marks:\"))\n",
    "grade = \"\"\n",
    "if marks>=90:\n",
    "    grad = \"A\"\n",
    "elif marks>=80:\n",
    "    grade =\"A\"\n",
    "elif marks>=70:\n",
    "    grade = \"B\"\n",
    "elif marks>=60:\n",
    "    grade = \"C\"\n",
    "elif marks>=50:\n",
    "    grade = \"D\"\n",
    "else:\n",
    "    print(\"your are ungraded please try agian\")\n",
    "    \n",
    "print(f\"you marks are {marks} and your grades is {grade}\")\n"
   ]
  },
  {
   "cell_type": "code",
   "execution_count": null,
   "metadata": {},
   "outputs": [],
   "source": [
    "marks = int (input())"
   ]
  },
  {
   "cell_type": "code",
   "execution_count": 2,
   "metadata": {},
   "outputs": [
    {
     "ename": "IndentationError",
     "evalue": "unexpected indent (<ipython-input-2-1258422210c4>, line 3)",
     "output_type": "error",
     "traceback": [
      "\u001b[1;36m  File \u001b[1;32m\"<ipython-input-2-1258422210c4>\"\u001b[1;36m, line \u001b[1;32m3\u001b[0m\n\u001b[1;33m    nameinlist = input(\"is my name in list?\")\u001b[0m\n\u001b[1;37m    ^\u001b[0m\n\u001b[1;31mIndentationError\u001b[0m\u001b[1;31m:\u001b[0m unexpected indent\n"
     ]
    }
   ],
   "source": [
    "#this is opreyters and or\n",
    "cnic = input(\"do you have cnic?\")\n",
    " nameinlist = input(\"is my name in list?\")\n",
    "\n",
    "    if (cnic=='yes') and (nameinlist=='yes'):\n",
    "        print(\"caste your vote\")\n",
    "    else:\n",
    "        ''''hfiwth,cnc\n",
    "        sdncjksahfi'''\n",
    "        print(\"you can not\")"
   ]
  },
  {
   "cell_type": "markdown",
   "metadata": {},
   "source": [
    "# TYPES OF COMMENTS"
   ]
  },
  {
   "cell_type": "code",
   "execution_count": 3,
   "metadata": {},
   "outputs": [],
   "source": [
    "student = \"asad\"\n",
    "student = \"faiz\""
   ]
  },
  {
   "cell_type": "code",
   "execution_count": 4,
   "metadata": {},
   "outputs": [
    {
     "data": {
      "text/plain": [
       "['asadsaadfaizmark']"
      ]
     },
     "execution_count": 4,
     "metadata": {},
     "output_type": "execute_result"
    }
   ],
   "source": [
    "student = [\"asad\" \"saad\" \"faiz\" \"mark\"]\n",
    "student"
   ]
  },
  {
   "cell_type": "code",
   "execution_count": 5,
   "metadata": {},
   "outputs": [],
   "source": [
    "list =['string' , 34 , 43.3]"
   ]
  },
  {
   "cell_type": "code",
   "execution_count": 6,
   "metadata": {},
   "outputs": [
    {
     "ename": "SyntaxError",
     "evalue": "invalid syntax (<ipython-input-6-1c030c8b1b99>, line 1)",
     "output_type": "error",
     "traceback": [
      "\u001b[1;36m  File \u001b[1;32m\"<ipython-input-6-1c030c8b1b99>\"\u001b[1;36m, line \u001b[1;32m1\u001b[0m\n\u001b[1;33m    student append(\"hussain\")\u001b[0m\n\u001b[1;37m                 ^\u001b[0m\n\u001b[1;31mSyntaxError\u001b[0m\u001b[1;31m:\u001b[0m invalid syntax\n"
     ]
    }
   ],
   "source": [
    "student append(\"hussain\")\n"
   ]
  },
  {
   "cell_type": "code",
   "execution_count": null,
   "metadata": {},
   "outputs": [],
   "source": [
    "Enter your English marks: 54\n",
    "\t\t\t\tEnter your Maths marks: 56\n",
    "\t\t\t\tEnter your Urdu marks: 76\n",
    "\t\t\t\tEnter your Science marks: 88\n",
    "\t\t\t\tEnter your Programming marks: 88\n",
    "\n",
    "\t\t\t\t***YOUR TOTAL MARKS ARE 362.0 out of 500***\n",
    "\n",
    "\t\t\t\tYour total marks are: 362.0\n",
    "\t\t\t\tYour percentage is 72.4%\n",
    "\t\t\t\tYour grade is B."
   ]
  },
  {
   "cell_type": "code",
   "execution_count": null,
   "metadata": {},
   "outputs": [],
   "source": [
    " marks = float(input(\"enter your marks:\"))\n",
    "grade = \"\"\n",
    "if marks>=90:\n",
    "    grad = \"A\"\n",
    "elif marks>=80:\n",
    "    grade =\"A\"\n",
    "elif marks>=70:\n",
    "    grade = \"B\"\n",
    "elif marks>=60:\n",
    "    grade = \"C\"\n",
    "elif marks>=50:\n",
    "    grade = \"D\"\n",
    "else:\n",
    "    print(\"your are ungraded please try agian\")\n",
    "    \n",
    "print(f\"you marks are {marks} and your grades is {grade}\")\n"
   ]
  },
  {
   "cell_type": "code",
   "execution_count": null,
   "metadata": {},
   "outputs": [],
   "source": [
    "Enter your English marks: 54\n",
    "\t\t\t\tEnter your Maths marks: 56\n",
    "\t\t\t\tEnter your Urdu marks: 76\n",
    "\t\t\t\tEnter your Science marks: 88\n",
    "\t\t\t\tEnter your Programming marks: 88\n",
    "\n",
    "\t\t\t\t***YOUR TOTAL MARKS ARE 362.0 out of 500***\n",
    "\n",
    "\t\t\t\tYour total marks are: 362.0\n",
    "\t\t\t\tYour percentage is 72.4%\n",
    "\t\t\t\tYour grade is B."
   ]
  },
  {
   "cell_type": "code",
   "execution_count": 2,
   "metadata": {},
   "outputs": [
    {
     "name": "stdout",
     "output_type": "stream",
     "text": [
      "Enter Your English marks:76\n",
      "Enter Your Maths marks:77\n",
      "Enter Your Urdu marks:87\n",
      "Enter Your Science marks:93\n",
      "Enter Your Programing marks:87\n",
      "420\n"
     ]
    }
   ],
   "source": [
    "marks0 = int(input('Enter Your English marks:'))\n",
    "marks1 = int(input('Enter Your Maths marks:'))\n",
    "marks2 = int(input('Enter Your Urdu marks:'))\n",
    "marks3 = int(input('Enter Your Science marks:'))\n",
    "marks4 = int(input('Enter Your Programing marks:'))\n",
    "\n",
    "total = marks0 + marks1 + marks2 + marks3 + marks4\n",
    "if total=: \n",
    "print(total())\n",
    "\n"
   ]
  },
  {
   "cell_type": "code",
   "execution_count": 3,
   "metadata": {},
   "outputs": [
    {
     "name": "stdout",
     "output_type": "stream",
     "text": [
      "245.531\n",
      "245.5\n",
      "245.53\n"
     ]
    }
   ],
   "source": [
    "a = 34.001\n",
    "b = 56.45\n",
    "c = 78.21\n",
    "d = 76.87\n",
    "total = a+b+c+d\n",
    "print(total)\n",
    "print(round(total , 1))\n",
    "print(round(total , 2))"
   ]
  },
  {
   "cell_type": "code",
   "execution_count": 6,
   "metadata": {},
   "outputs": [
    {
     "name": "stdout",
     "output_type": "stream",
     "text": [
      "245.531\n"
     ]
    }
   ],
   "source": [
    "a = 67\n",
    "b = 43\n",
    "c = 65\n",
    "totle = a+b+c\n",
    "print(total)\n"
   ]
  },
  {
   "cell_type": "code",
   "execution_count": null,
   "metadata": {},
   "outputs": [],
   "source": []
  },
  {
   "cell_type": "code",
   "execution_count": 2,
   "metadata": {},
   "outputs": [
    {
     "ename": "NameError",
     "evalue": "name 'cities' is not defined",
     "output_type": "error",
     "traceback": [
      "\u001b[1;31m---------------------------------------------------------------------------\u001b[0m",
      "\u001b[1;31mNameError\u001b[0m                                 Traceback (most recent call last)",
      "\u001b[1;32m<ipython-input-2-ed138fde4217>\u001b[0m in \u001b[0;36m<module>\u001b[1;34m\u001b[0m\n\u001b[1;32m----> 1\u001b[1;33m \u001b[0mcities\u001b[0m \u001b[1;33m=\u001b[0m \u001b[0mcities\u001b[0m \u001b[1;33m+\u001b[0m \u001b[1;33m[\u001b[0m\u001b[1;34m\"Dubuque\"\u001b[0m\u001b[1;33m,\u001b[0m \u001b[1;34m\"New Orleans\"\u001b[0m\u001b[1;33m]\u001b[0m\u001b[1;33m\u001b[0m\u001b[1;33m\u001b[0m\u001b[0m\n\u001b[0m\u001b[0;32m      2\u001b[0m \u001b[0mprint\u001b[0m\u001b[1;33m(\u001b[0m\u001b[0mcities\u001b[0m\u001b[1;33m)\u001b[0m\u001b[1;33m\u001b[0m\u001b[1;33m\u001b[0m\u001b[0m\n",
      "\u001b[1;31mNameError\u001b[0m: name 'cities' is not defined"
     ]
    }
   ],
   "source": [
    "cities = cities + [\"Dubuque\", \"New Orleans\"]\n",
    "print(cities)"
   ]
  },
  {
   "cell_type": "code",
   "execution_count": null,
   "metadata": {},
   "outputs": [],
   "source": [
    "+ marks1 + marks2 + marks3 + marks4\n",
    "if num +== ('marks0'):\n",
    "    \n",
    "    print(\t\t\t\t***YOUR TOTAL MARKS ARE( num) out of 500***)\n",
    "    \n"
   ]
  },
  {
   "cell_type": "markdown",
   "metadata": {},
   "source": []
  },
  {
   "cell_type": "code",
   "execution_count": null,
   "metadata": {},
   "outputs": [],
   "source": [
    " "
   ]
  },
  {
   "cell_type": "code",
   "execution_count": null,
   "metadata": {},
   "outputs": [],
   "source": [
    " "
   ]
  },
  {
   "cell_type": "code",
   "execution_count": null,
   "metadata": {},
   "outputs": [],
   "source": []
  },
  {
   "cell_type": "code",
   "execution_count": null,
   "metadata": {},
   "outputs": [],
   "source": []
  },
  {
   "cell_type": "code",
   "execution_count": null,
   "metadata": {},
   "outputs": [],
   "source": []
  }
 ],
 "metadata": {
  "kernelspec": {
   "display_name": "Python 3",
   "language": "python",
   "name": "python3"
  },
  "language_info": {
   "codemirror_mode": {
    "name": "ipython",
    "version": 3
   },
   "file_extension": ".py",
   "mimetype": "text/x-python",
   "name": "python",
   "nbconvert_exporter": "python",
   "pygments_lexer": "ipython3",
   "version": "3.7.3"
  }
 },
 "nbformat": 4,
 "nbformat_minor": 2
}
